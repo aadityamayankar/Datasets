{
 "cells": [
  {
   "cell_type": "markdown",
   "metadata": {},
   "source": [
    "### Stock Market Prediction And Forecasting Using Stacked LSTM"
   ]
  },
  {
   "cell_type": "code",
   "execution_count": 1,
   "metadata": {},
   "outputs": [],
   "source": [
    "path = r'C:\\Users\\ADI\\Desktop\\ASIAN-PAINTS.csv'"
   ]
  },
  {
   "cell_type": "code",
   "execution_count": 2,
   "metadata": {},
   "outputs": [],
   "source": [
    "import pandas as pd\n",
    "import numpy as np\n",
    "import matplotlib.pyplot as plt\n",
    "%matplotlib inline\n",
    "import io\n",
    "\n",
    "\n",
    "df = pd.read_csv (path)\n",
    "df.rename(columns={'Date': 'date', 'Open Price': 'open', 'High Price': 'high', 'Low Price': 'low', 'Close Price': 'close', 'WAP': 'wap', 'No.of Shares' : 'shares', 'No. of Trades' : 'trades', 'Total Turnover (Rs.)' : 'turnover', 'Deliverable Quantity' : 'deliQty', '% Deli. Qty to Traded Qty' : 'deliQtyToTradedQty', 'Spread High-Low' : 'highLowSpread', 'Spread Close-Open' : 'closeOpenSpread'}, inplace = True)"
   ]
  },
  {
   "cell_type": "code",
   "execution_count": 3,
   "metadata": {},
   "outputs": [
    {
     "data": {
      "text/html": [
       "<div>\n",
       "<style scoped>\n",
       "    .dataframe tbody tr th:only-of-type {\n",
       "        vertical-align: middle;\n",
       "    }\n",
       "\n",
       "    .dataframe tbody tr th {\n",
       "        vertical-align: top;\n",
       "    }\n",
       "\n",
       "    .dataframe thead th {\n",
       "        text-align: right;\n",
       "    }\n",
       "</style>\n",
       "<table border=\"1\" class=\"dataframe\">\n",
       "  <thead>\n",
       "    <tr style=\"text-align: right;\">\n",
       "      <th></th>\n",
       "      <th>date</th>\n",
       "      <th>open</th>\n",
       "      <th>high</th>\n",
       "      <th>low</th>\n",
       "      <th>close</th>\n",
       "      <th>wap</th>\n",
       "      <th>shares</th>\n",
       "      <th>trades</th>\n",
       "      <th>turnover</th>\n",
       "      <th>deliQty</th>\n",
       "      <th>deliQtyToTradedQty</th>\n",
       "      <th>highLowSpread</th>\n",
       "      <th>closeOpenSpread</th>\n",
       "    </tr>\n",
       "  </thead>\n",
       "  <tbody>\n",
       "    <tr>\n",
       "      <th>0</th>\n",
       "      <td>8-April-2022</td>\n",
       "      <td>3172.85</td>\n",
       "      <td>3219.00</td>\n",
       "      <td>3150.70</td>\n",
       "      <td>3206.70</td>\n",
       "      <td>3190.305220</td>\n",
       "      <td>63125</td>\n",
       "      <td>8976</td>\n",
       "      <td>201388017.0</td>\n",
       "      <td>34502.0</td>\n",
       "      <td>54.66</td>\n",
       "      <td>68.30</td>\n",
       "      <td>33.85</td>\n",
       "    </tr>\n",
       "    <tr>\n",
       "      <th>1</th>\n",
       "      <td>7-April-2022</td>\n",
       "      <td>3145.40</td>\n",
       "      <td>3208.95</td>\n",
       "      <td>3145.40</td>\n",
       "      <td>3155.30</td>\n",
       "      <td>3174.126443</td>\n",
       "      <td>113031</td>\n",
       "      <td>10464</td>\n",
       "      <td>358774686.0</td>\n",
       "      <td>55258.0</td>\n",
       "      <td>48.89</td>\n",
       "      <td>63.55</td>\n",
       "      <td>9.90</td>\n",
       "    </tr>\n",
       "    <tr>\n",
       "      <th>2</th>\n",
       "      <td>6-April-2022</td>\n",
       "      <td>3139.60</td>\n",
       "      <td>3165.00</td>\n",
       "      <td>3112.55</td>\n",
       "      <td>3155.05</td>\n",
       "      <td>3144.289330</td>\n",
       "      <td>47496</td>\n",
       "      <td>4958</td>\n",
       "      <td>149341166.0</td>\n",
       "      <td>25788.0</td>\n",
       "      <td>54.30</td>\n",
       "      <td>52.45</td>\n",
       "      <td>15.45</td>\n",
       "    </tr>\n",
       "    <tr>\n",
       "      <th>3</th>\n",
       "      <td>5-April-2022</td>\n",
       "      <td>3116.00</td>\n",
       "      <td>3157.25</td>\n",
       "      <td>3080.80</td>\n",
       "      <td>3139.60</td>\n",
       "      <td>3140.860434</td>\n",
       "      <td>48658</td>\n",
       "      <td>3918</td>\n",
       "      <td>152827987.0</td>\n",
       "      <td>29864.0</td>\n",
       "      <td>61.38</td>\n",
       "      <td>76.45</td>\n",
       "      <td>23.60</td>\n",
       "    </tr>\n",
       "    <tr>\n",
       "      <th>4</th>\n",
       "      <td>4-April-2022</td>\n",
       "      <td>3147.00</td>\n",
       "      <td>3147.00</td>\n",
       "      <td>3092.60</td>\n",
       "      <td>3117.65</td>\n",
       "      <td>3118.713192</td>\n",
       "      <td>60368</td>\n",
       "      <td>10156</td>\n",
       "      <td>188270478.0</td>\n",
       "      <td>34489.0</td>\n",
       "      <td>57.13</td>\n",
       "      <td>54.40</td>\n",
       "      <td>-29.35</td>\n",
       "    </tr>\n",
       "    <tr>\n",
       "      <th>...</th>\n",
       "      <td>...</td>\n",
       "      <td>...</td>\n",
       "      <td>...</td>\n",
       "      <td>...</td>\n",
       "      <td>...</td>\n",
       "      <td>...</td>\n",
       "      <td>...</td>\n",
       "      <td>...</td>\n",
       "      <td>...</td>\n",
       "      <td>...</td>\n",
       "      <td>...</td>\n",
       "      <td>...</td>\n",
       "      <td>...</td>\n",
       "    </tr>\n",
       "    <tr>\n",
       "      <th>1971</th>\n",
       "      <td>17-April-2014</td>\n",
       "      <td>535.00</td>\n",
       "      <td>545.45</td>\n",
       "      <td>533.85</td>\n",
       "      <td>543.60</td>\n",
       "      <td>540.104629</td>\n",
       "      <td>50961</td>\n",
       "      <td>2854</td>\n",
       "      <td>27524272.0</td>\n",
       "      <td>14116.0</td>\n",
       "      <td>27.70</td>\n",
       "      <td>11.60</td>\n",
       "      <td>8.60</td>\n",
       "    </tr>\n",
       "    <tr>\n",
       "      <th>1972</th>\n",
       "      <td>16-April-2014</td>\n",
       "      <td>535.90</td>\n",
       "      <td>538.50</td>\n",
       "      <td>533.00</td>\n",
       "      <td>534.55</td>\n",
       "      <td>535.380639</td>\n",
       "      <td>32653</td>\n",
       "      <td>1832</td>\n",
       "      <td>17481784.0</td>\n",
       "      <td>5925.0</td>\n",
       "      <td>18.15</td>\n",
       "      <td>5.50</td>\n",
       "      <td>-1.35</td>\n",
       "    </tr>\n",
       "    <tr>\n",
       "      <th>1973</th>\n",
       "      <td>15-April-2014</td>\n",
       "      <td>543.75</td>\n",
       "      <td>544.00</td>\n",
       "      <td>531.10</td>\n",
       "      <td>534.80</td>\n",
       "      <td>535.949555</td>\n",
       "      <td>39370</td>\n",
       "      <td>1988</td>\n",
       "      <td>21100334.0</td>\n",
       "      <td>9900.0</td>\n",
       "      <td>25.15</td>\n",
       "      <td>12.90</td>\n",
       "      <td>-8.95</td>\n",
       "    </tr>\n",
       "    <tr>\n",
       "      <th>1974</th>\n",
       "      <td>11-April-2014</td>\n",
       "      <td>540.10</td>\n",
       "      <td>544.95</td>\n",
       "      <td>536.00</td>\n",
       "      <td>541.95</td>\n",
       "      <td>541.192761</td>\n",
       "      <td>48599</td>\n",
       "      <td>2619</td>\n",
       "      <td>26301427.0</td>\n",
       "      <td>13314.0</td>\n",
       "      <td>27.40</td>\n",
       "      <td>8.95</td>\n",
       "      <td>1.85</td>\n",
       "    </tr>\n",
       "    <tr>\n",
       "      <th>1975</th>\n",
       "      <td>10-April-2014</td>\n",
       "      <td>543.15</td>\n",
       "      <td>549.65</td>\n",
       "      <td>539.50</td>\n",
       "      <td>541.30</td>\n",
       "      <td>545.036357</td>\n",
       "      <td>52369</td>\n",
       "      <td>2907</td>\n",
       "      <td>28543009.0</td>\n",
       "      <td>15817.0</td>\n",
       "      <td>30.20</td>\n",
       "      <td>10.15</td>\n",
       "      <td>-1.85</td>\n",
       "    </tr>\n",
       "  </tbody>\n",
       "</table>\n",
       "<p>1976 rows × 13 columns</p>\n",
       "</div>"
      ],
      "text/plain": [
       "               date     open     high      low    close          wap  shares  \\\n",
       "0      8-April-2022  3172.85  3219.00  3150.70  3206.70  3190.305220   63125   \n",
       "1      7-April-2022  3145.40  3208.95  3145.40  3155.30  3174.126443  113031   \n",
       "2      6-April-2022  3139.60  3165.00  3112.55  3155.05  3144.289330   47496   \n",
       "3      5-April-2022  3116.00  3157.25  3080.80  3139.60  3140.860434   48658   \n",
       "4      4-April-2022  3147.00  3147.00  3092.60  3117.65  3118.713192   60368   \n",
       "...             ...      ...      ...      ...      ...          ...     ...   \n",
       "1971  17-April-2014   535.00   545.45   533.85   543.60   540.104629   50961   \n",
       "1972  16-April-2014   535.90   538.50   533.00   534.55   535.380639   32653   \n",
       "1973  15-April-2014   543.75   544.00   531.10   534.80   535.949555   39370   \n",
       "1974  11-April-2014   540.10   544.95   536.00   541.95   541.192761   48599   \n",
       "1975  10-April-2014   543.15   549.65   539.50   541.30   545.036357   52369   \n",
       "\n",
       "      trades     turnover  deliQty  deliQtyToTradedQty  highLowSpread  \\\n",
       "0       8976  201388017.0  34502.0               54.66          68.30   \n",
       "1      10464  358774686.0  55258.0               48.89          63.55   \n",
       "2       4958  149341166.0  25788.0               54.30          52.45   \n",
       "3       3918  152827987.0  29864.0               61.38          76.45   \n",
       "4      10156  188270478.0  34489.0               57.13          54.40   \n",
       "...      ...          ...      ...                 ...            ...   \n",
       "1971    2854   27524272.0  14116.0               27.70          11.60   \n",
       "1972    1832   17481784.0   5925.0               18.15           5.50   \n",
       "1973    1988   21100334.0   9900.0               25.15          12.90   \n",
       "1974    2619   26301427.0  13314.0               27.40           8.95   \n",
       "1975    2907   28543009.0  15817.0               30.20          10.15   \n",
       "\n",
       "      closeOpenSpread  \n",
       "0               33.85  \n",
       "1                9.90  \n",
       "2               15.45  \n",
       "3               23.60  \n",
       "4              -29.35  \n",
       "...               ...  \n",
       "1971             8.60  \n",
       "1972            -1.35  \n",
       "1973            -8.95  \n",
       "1974             1.85  \n",
       "1975            -1.85  \n",
       "\n",
       "[1976 rows x 13 columns]"
      ]
     },
     "execution_count": 3,
     "metadata": {},
     "output_type": "execute_result"
    }
   ],
   "source": [
    "df"
   ]
  },
  {
   "cell_type": "code",
   "execution_count": 4,
   "metadata": {},
   "outputs": [],
   "source": [
    "df['date'] = pd.to_datetime(df['date'], format = '%d-%B-%Y')\n",
    "df.set_index('date',inplace = True)\n",
    "df.sort_index(inplace = True)"
   ]
  },
  {
   "cell_type": "code",
   "execution_count": 5,
   "metadata": {},
   "outputs": [],
   "source": [
    "df1 = df.reset_index()['close']"
   ]
  },
  {
   "cell_type": "code",
   "execution_count": 6,
   "metadata": {},
   "outputs": [
    {
     "data": {
      "text/plain": [
       "0        541.30\n",
       "1        541.95\n",
       "2        534.80\n",
       "3        534.55\n",
       "4        543.60\n",
       "         ...   \n",
       "1971    3117.65\n",
       "1972    3139.60\n",
       "1973    3155.05\n",
       "1974    3155.30\n",
       "1975    3206.70\n",
       "Name: close, Length: 1976, dtype: float64"
      ]
     },
     "execution_count": 6,
     "metadata": {},
     "output_type": "execute_result"
    }
   ],
   "source": [
    "df1"
   ]
  },
  {
   "cell_type": "code",
   "execution_count": 7,
   "metadata": {},
   "outputs": [
    {
     "data": {
      "text/plain": [
       "(1976,)"
      ]
     },
     "execution_count": 7,
     "metadata": {},
     "output_type": "execute_result"
    }
   ],
   "source": [
    "df1.shape"
   ]
  },
  {
   "cell_type": "code",
   "execution_count": 8,
   "metadata": {},
   "outputs": [
    {
     "data": {
      "text/plain": [
       "[<matplotlib.lines.Line2D at 0x1fe575cb610>]"
      ]
     },
     "execution_count": 8,
     "metadata": {},
     "output_type": "execute_result"
    },
    {
     "data": {
      "image/png": "[encoded data removed]",
      "text/plain": [
       "<Figure size 432x288 with 1 Axes>"
      ]
     },
     "metadata": {
      "needs_background": "light"
     },
     "output_type": "display_data"
    }
   ],
   "source": [
    "plt.plot(df1)"
   ]
  },
  {
   "cell_type": "code",
   "execution_count": 9,
   "metadata": {},
   "outputs": [],
   "source": [
    "from sklearn.preprocessing import MinMaxScaler\n",
    "scaler=MinMaxScaler(feature_range=(0,1))\n",
    "df1=scaler.fit_transform(np.array(df1).reshape(-1,1))"
   ]
  },
  {
   "cell_type": "code",
   "execution_count": 10,
   "metadata": {},
   "outputs": [
    {
     "name": "stdout",
     "output_type": "stream",
     "text": [
      "[[0.0139776 ]\n",
      " [0.01418889]\n",
      " [0.01186471]\n",
      " ...\n",
      " [0.8636046 ]\n",
      " [0.86368586]\n",
      " [0.88039397]]\n"
     ]
    }
   ],
   "source": [
    "print(df1)"
   ]
  },
  {
   "cell_type": "code",
   "execution_count": 11,
   "metadata": {},
   "outputs": [],
   "source": [
    "##splitting dataset into train and test split\n",
    "training_size=int(len(df1)*0.65)\n",
    "test_size=len(df1)-training_size\n",
    "train_data,test_data=df1[0:training_size,:],df1[training_size:len(df1),:1]"
   ]
  },
  {
   "cell_type": "code",
   "execution_count": 12,
   "metadata": {},
   "outputs": [
    {
     "data": {
      "text/plain": [
       "(1284, 692)"
      ]
     },
     "execution_count": 12,
     "metadata": {},
     "output_type": "execute_result"
    }
   ],
   "source": [
    "training_size,test_size"
   ]
  },
  {
   "cell_type": "code",
   "execution_count": 13,
   "metadata": {},
   "outputs": [
    {
     "data": {
      "text/plain": [
       "array([[0.0139776 ],\n",
       "       [0.01418889],\n",
       "       [0.01186471],\n",
       "       ...,\n",
       "       [0.28545192],\n",
       "       [0.28114486],\n",
       "       [0.28007216]])"
      ]
     },
     "execution_count": 13,
     "metadata": {},
     "output_type": "execute_result"
    }
   ],
   "source": [
    "train_data"
   ]
  },
  {
   "cell_type": "code",
   "execution_count": 14,
   "metadata": {},
   "outputs": [],
   "source": [
    "import numpy\n",
    "# convert an array of values into a dataset matrix\n",
    "def create_dataset(dataset, time_step=1):\n",
    "\tdataX, dataY = [], []\n",
    "\tfor i in range(len(dataset)-time_step-1):\n",
    "\t\ta = dataset[i:(i+time_step), 0]   ###i=0, 0,1,2,3-----99   100 \n",
    "\t\tdataX.append(a)\n",
    "\t\tdataY.append(dataset[i + time_step, 0])\n",
    "\treturn numpy.array(dataX), numpy.array(dataY)"
   ]
  },
  {
   "cell_type": "code",
   "execution_count": 15,
   "metadata": {},
   "outputs": [],
   "source": [
    "# reshape into X=t,t+1,t+2,t+3 and Y=t+4\n",
    "time_step = 100\n",
    "X_train, y_train = create_dataset(train_data, time_step)\n",
    "X_test, ytest = create_dataset(test_data, time_step)"
   ]
  },
  {
   "cell_type": "code",
   "execution_count": 16,
   "metadata": {},
   "outputs": [
    {
     "name": "stdout",
     "output_type": "stream",
     "text": [
      "(1183, 100)\n",
      "(1183,)\n"
     ]
    },
    {
     "data": {
      "text/plain": [
       "(None, None)"
      ]
     },
     "execution_count": 16,
     "metadata": {},
     "output_type": "execute_result"
    }
   ],
   "source": [
    "print(X_train.shape), print(y_train.shape)"
   ]
  },
  {
   "cell_type": "code",
   "execution_count": 17,
   "metadata": {},
   "outputs": [
    {
     "name": "stdout",
     "output_type": "stream",
     "text": [
      "(591, 100)\n",
      "(591,)\n"
     ]
    },
    {
     "data": {
      "text/plain": [
       "(None, None)"
      ]
     },
     "execution_count": 17,
     "metadata": {},
     "output_type": "execute_result"
    }
   ],
   "source": [
    "print(X_test.shape), print(ytest.shape)"
   ]
  },
  {
   "cell_type": "code",
   "execution_count": 18,
   "metadata": {},
   "outputs": [],
   "source": [
    "# reshape input to be [samples, time steps, features] which is required for LSTM\n",
    "X_train =X_train.reshape(X_train.shape[0],X_train.shape[1] , 1)\n",
    "X_test = X_test.reshape(X_test.shape[0],X_test.shape[1] , 1)"
   ]
  },
  {
   "cell_type": "code",
   "execution_count": 19,
   "metadata": {},
   "outputs": [],
   "source": [
    "### Create the Stacked LSTM model\n",
    "from tensorflow.keras.models import Sequential\n",
    "from tensorflow.keras.layers import Dense\n",
    "from tensorflow.keras.layers import LSTM"
   ]
  },
  {
   "cell_type": "code",
   "execution_count": 20,
   "metadata": {},
   "outputs": [],
   "source": [
    "model=Sequential()\n",
    "model.add(LSTM(50,return_sequences=True,input_shape=(100,1)))\n",
    "model.add(LSTM(50,return_sequences=True))\n",
    "model.add(LSTM(50))\n",
    "model.add(Dense(1))\n",
    "model.compile(loss='mean_squared_error',optimizer='adam')\n"
   ]
  },
  {
   "cell_type": "code",
   "execution_count": 21,
   "metadata": {},
   "outputs": [
    {
     "name": "stdout",
     "output_type": "stream",
     "text": [
      "Model: \"sequential\"\n",
      "_________________________________________________________________\n",
      " Layer (type)                Output Shape              Param #   \n",
      "=================================================================\n",
      " lstm (LSTM)                 (None, 100, 50)           10400     \n",
      "                                                                 \n",
      " lstm_1 (LSTM)               (None, 100, 50)           20200     \n",
      "                                                                 \n",
      " lstm_2 (LSTM)               (None, 50)                20200     \n",
      "                                                                 \n",
      " dense (Dense)               (None, 1)                 51        \n",
      "                                                                 \n",
      "=================================================================\n",
      "Total params: 50,851\n",
      "Trainable params: 50,851\n",
      "Non-trainable params: 0\n",
      "_________________________________________________________________\n"
     ]
    }
   ],
   "source": [
    "model.summary()"
   ]
  },
  {
   "cell_type": "code",
   "execution_count": 22,
   "metadata": {},
   "outputs": [
    {
     "name": "stdout",
     "output_type": "stream",
     "text": [
      "Model: \"sequential\"\n",
      "_________________________________________________________________\n",
      " Layer (type)                Output Shape              Param #   \n",
      "=================================================================\n",
      " lstm (LSTM)                 (None, 100, 50)           10400     \n",
      "                                                                 \n",
      " lstm_1 (LSTM)               (None, 100, 50)           20200     \n",
      "                                                                 \n",
      " lstm_2 (LSTM)               (None, 50)                20200     \n",
      "                                                                 \n",
      " dense (Dense)               (None, 1)                 51        \n",
      "                                                                 \n",
      "=================================================================\n",
      "Total params: 50,851\n",
      "Trainable params: 50,851\n",
      "Non-trainable params: 0\n",
      "_________________________________________________________________\n"
     ]
    }
   ],
   "source": [
    "model.summary()"
   ]
  },
  {
   "cell_type": "code",
   "execution_count": 23,
   "metadata": {},
   "outputs": [
    {
     "name": "stdout",
     "output_type": "stream",
     "text": [
      "Epoch 1/100\n",
      "19/19 [==============================] - 11s 237ms/step - loss: 0.0068 - val_loss: 0.0525\n",
      "Epoch 2/100\n",
      "19/19 [==============================] - 3s 144ms/step - loss: 8.6193e-04 - val_loss: 0.0092\n",
      "Epoch 3/100\n",
      "19/19 [==============================] - 3s 148ms/step - loss: 2.7926e-04 - val_loss: 0.0035\n",
      "Epoch 4/100\n",
      "19/19 [==============================] - 3s 155ms/step - loss: 2.2419e-04 - val_loss: 0.0049\n",
      "Epoch 5/100\n",
      "19/19 [==============================] - 3s 150ms/step - loss: 2.0901e-04 - val_loss: 0.0038\n",
      "Epoch 6/100\n",
      "19/19 [==============================] - 3s 151ms/step - loss: 2.0934e-04 - val_loss: 0.0042\n",
      "Epoch 7/100\n",
      "19/19 [==============================] - 3s 175ms/step - loss: 2.0475e-04 - val_loss: 0.0043\n",
      "Epoch 8/100\n",
      "19/19 [==============================] - 3s 158ms/step - loss: 2.0579e-04 - val_loss: 0.0040\n",
      "Epoch 9/100\n",
      "19/19 [==============================] - 4s 200ms/step - loss: 2.0044e-04 - val_loss: 0.0033\n",
      "Epoch 10/100\n",
      "19/19 [==============================] - 3s 173ms/step - loss: 2.0661e-04 - val_loss: 0.0025\n",
      "Epoch 11/100\n",
      "19/19 [==============================] - 3s 163ms/step - loss: 2.1791e-04 - val_loss: 0.0025\n",
      "Epoch 12/100\n",
      "19/19 [==============================] - 3s 175ms/step - loss: 2.2156e-04 - val_loss: 0.0040\n",
      "Epoch 13/100\n",
      "19/19 [==============================] - 4s 198ms/step - loss: 1.8971e-04 - val_loss: 0.0042\n",
      "Epoch 14/100\n",
      "19/19 [==============================] - 4s 212ms/step - loss: 1.8601e-04 - val_loss: 0.0036\n",
      "Epoch 15/100\n",
      "19/19 [==============================] - 4s 201ms/step - loss: 1.8184e-04 - val_loss: 0.0030\n",
      "Epoch 16/100\n",
      "19/19 [==============================] - 4s 213ms/step - loss: 1.7573e-04 - val_loss: 0.0034\n",
      "Epoch 17/100\n",
      "19/19 [==============================] - 3s 183ms/step - loss: 1.7016e-04 - val_loss: 0.0032\n",
      "Epoch 18/100\n",
      "19/19 [==============================] - 3s 171ms/step - loss: 1.6572e-04 - val_loss: 0.0033\n",
      "Epoch 19/100\n",
      "19/19 [==============================] - 4s 190ms/step - loss: 1.7127e-04 - val_loss: 0.0030\n",
      "Epoch 20/100\n",
      "19/19 [==============================] - 4s 230ms/step - loss: 1.5699e-04 - val_loss: 0.0042\n",
      "Epoch 21/100\n",
      "19/19 [==============================] - 5s 289ms/step - loss: 1.6122e-04 - val_loss: 0.0028\n",
      "Epoch 22/100\n",
      "19/19 [==============================] - 5s 269ms/step - loss: 1.5587e-04 - val_loss: 0.0036\n",
      "Epoch 23/100\n",
      "19/19 [==============================] - 4s 221ms/step - loss: 1.5215e-04 - val_loss: 0.0028\n",
      "Epoch 24/100\n",
      "19/19 [==============================] - 3s 180ms/step - loss: 1.5652e-04 - val_loss: 0.0023\n",
      "Epoch 25/100\n",
      "19/19 [==============================] - 3s 179ms/step - loss: 1.5641e-04 - val_loss: 0.0047\n",
      "Epoch 26/100\n",
      "19/19 [==============================] - 3s 178ms/step - loss: 1.4415e-04 - val_loss: 0.0019\n",
      "Epoch 27/100\n",
      "19/19 [==============================] - 3s 183ms/step - loss: 1.4607e-04 - val_loss: 0.0026\n",
      "Epoch 28/100\n",
      "19/19 [==============================] - 3s 180ms/step - loss: 1.3270e-04 - val_loss: 0.0042\n",
      "Epoch 29/100\n",
      "19/19 [==============================] - 3s 177ms/step - loss: 1.2621e-04 - val_loss: 0.0049\n",
      "Epoch 30/100\n",
      "19/19 [==============================] - 3s 185ms/step - loss: 1.4047e-04 - val_loss: 0.0041\n",
      "Epoch 31/100\n",
      "19/19 [==============================] - 3s 182ms/step - loss: 1.2528e-04 - val_loss: 0.0030\n",
      "Epoch 32/100\n",
      "19/19 [==============================] - 4s 193ms/step - loss: 1.2635e-04 - val_loss: 0.0042\n",
      "Epoch 33/100\n",
      "19/19 [==============================] - 4s 220ms/step - loss: 1.1977e-04 - val_loss: 0.0054\n",
      "Epoch 34/100\n",
      "19/19 [==============================] - 3s 179ms/step - loss: 1.1535e-04 - val_loss: 0.0039\n",
      "Epoch 35/100\n",
      "19/19 [==============================] - 4s 231ms/step - loss: 1.1020e-04 - val_loss: 0.0034\n",
      "Epoch 36/100\n",
      "19/19 [==============================] - 3s 185ms/step - loss: 1.1285e-04 - val_loss: 0.0048\n",
      "Epoch 37/100\n",
      "19/19 [==============================] - 4s 204ms/step - loss: 1.2209e-04 - val_loss: 0.0046\n",
      "Epoch 38/100\n",
      "19/19 [==============================] - 4s 189ms/step - loss: 1.2862e-04 - val_loss: 0.0048\n",
      "Epoch 39/100\n",
      "19/19 [==============================] - 4s 219ms/step - loss: 1.1838e-04 - val_loss: 0.0040\n",
      "Epoch 40/100\n",
      "19/19 [==============================] - 3s 177ms/step - loss: 1.0620e-04 - val_loss: 0.0021\n",
      "Epoch 41/100\n",
      "19/19 [==============================] - 3s 173ms/step - loss: 1.0310e-04 - val_loss: 0.0027\n",
      "Epoch 42/100\n",
      "19/19 [==============================] - 4s 192ms/step - loss: 9.8144e-05 - val_loss: 0.0050\n",
      "Epoch 43/100\n",
      "19/19 [==============================] - 4s 201ms/step - loss: 1.0410e-04 - val_loss: 0.0043\n",
      "Epoch 44/100\n",
      "19/19 [==============================] - 4s 219ms/step - loss: 9.8736e-05 - val_loss: 0.0020\n",
      "Epoch 45/100\n",
      "19/19 [==============================] - 3s 186ms/step - loss: 9.0911e-05 - val_loss: 0.0034\n",
      "Epoch 46/100\n",
      "19/19 [==============================] - 4s 188ms/step - loss: 9.9794e-05 - val_loss: 0.0029\n",
      "Epoch 47/100\n",
      "19/19 [==============================] - 4s 186ms/step - loss: 8.9683e-05 - val_loss: 0.0036\n",
      "Epoch 48/100\n",
      "19/19 [==============================] - 3s 185ms/step - loss: 9.4536e-05 - val_loss: 0.0028\n",
      "Epoch 49/100\n",
      "19/19 [==============================] - 4s 198ms/step - loss: 8.7867e-05 - val_loss: 0.0020\n",
      "Epoch 50/100\n",
      "19/19 [==============================] - 4s 190ms/step - loss: 9.1769e-05 - val_loss: 0.0018\n",
      "Epoch 51/100\n",
      "19/19 [==============================] - 4s 191ms/step - loss: 8.4489e-05 - val_loss: 0.0013\n",
      "Epoch 52/100\n",
      "19/19 [==============================] - 3s 184ms/step - loss: 7.9231e-05 - val_loss: 0.0024\n",
      "Epoch 53/100\n",
      "19/19 [==============================] - 4s 187ms/step - loss: 8.0919e-05 - val_loss: 0.0030\n",
      "Epoch 54/100\n",
      "19/19 [==============================] - 3s 181ms/step - loss: 8.4280e-05 - val_loss: 0.0013\n",
      "Epoch 55/100\n",
      "19/19 [==============================] - 4s 189ms/step - loss: 7.4974e-05 - val_loss: 0.0015\n",
      "Epoch 56/100\n",
      "19/19 [==============================] - 4s 237ms/step - loss: 7.3991e-05 - val_loss: 0.0016\n",
      "Epoch 57/100\n",
      "19/19 [==============================] - 4s 189ms/step - loss: 7.6129e-05 - val_loss: 0.0016\n",
      "Epoch 58/100\n",
      "19/19 [==============================] - 5s 275ms/step - loss: 8.5348e-05 - val_loss: 6.9689e-04\n",
      "Epoch 59/100\n",
      "19/19 [==============================] - 4s 227ms/step - loss: 8.4224e-05 - val_loss: 6.7816e-04\n",
      "Epoch 60/100\n",
      "19/19 [==============================] - 4s 226ms/step - loss: 7.2033e-05 - val_loss: 8.4321e-04\n",
      "Epoch 61/100\n",
      "19/19 [==============================] - 5s 278ms/step - loss: 7.1889e-05 - val_loss: 0.0011\n",
      "Epoch 62/100\n",
      "19/19 [==============================] - 4s 204ms/step - loss: 6.5771e-05 - val_loss: 7.6763e-04\n",
      "Epoch 63/100\n",
      "19/19 [==============================] - 4s 224ms/step - loss: 6.6456e-05 - val_loss: 7.5301e-04\n",
      "Epoch 64/100\n",
      "19/19 [==============================] - 5s 242ms/step - loss: 8.4976e-05 - val_loss: 8.5242e-04\n",
      "Epoch 65/100\n",
      "19/19 [==============================] - 3s 181ms/step - loss: 6.9997e-05 - val_loss: 0.0017\n",
      "Epoch 66/100\n",
      "19/19 [==============================] - 3s 175ms/step - loss: 6.6884e-05 - val_loss: 5.6532e-04\n",
      "Epoch 67/100\n",
      "19/19 [==============================] - 3s 172ms/step - loss: 6.3731e-05 - val_loss: 4.9768e-04\n",
      "Epoch 68/100\n",
      "19/19 [==============================] - 3s 172ms/step - loss: 6.1749e-05 - val_loss: 0.0012\n",
      "Epoch 69/100\n",
      "19/19 [==============================] - 3s 171ms/step - loss: 6.2248e-05 - val_loss: 5.7247e-04\n",
      "Epoch 70/100\n",
      "19/19 [==============================] - 3s 170ms/step - loss: 6.1313e-05 - val_loss: 7.0258e-04\n",
      "Epoch 71/100\n",
      "19/19 [==============================] - 5s 278ms/step - loss: 6.0067e-05 - val_loss: 6.2997e-04\n",
      "Epoch 72/100\n",
      "19/19 [==============================] - 5s 263ms/step - loss: 5.7760e-05 - val_loss: 6.5450e-04\n",
      "Epoch 73/100\n",
      "19/19 [==============================] - 3s 183ms/step - loss: 6.3133e-05 - val_loss: 8.4520e-04\n",
      "Epoch 74/100\n",
      "19/19 [==============================] - 3s 170ms/step - loss: 6.4830e-05 - val_loss: 4.3196e-04\n",
      "Epoch 75/100\n",
      "19/19 [==============================] - 3s 172ms/step - loss: 6.5479e-05 - val_loss: 3.8126e-04\n",
      "Epoch 76/100\n",
      "19/19 [==============================] - 3s 171ms/step - loss: 5.9275e-05 - val_loss: 4.0285e-04\n",
      "Epoch 77/100\n",
      "19/19 [==============================] - 3s 178ms/step - loss: 5.5238e-05 - val_loss: 4.4971e-04\n"
     ]
    },
    {
     "name": "stdout",
     "output_type": "stream",
     "text": [
      "Epoch 78/100\n",
      "19/19 [==============================] - 3s 164ms/step - loss: 6.2441e-05 - val_loss: 5.5746e-04\n",
      "Epoch 79/100\n",
      "19/19 [==============================] - 3s 166ms/step - loss: 6.2198e-05 - val_loss: 4.9330e-04\n",
      "Epoch 80/100\n",
      "19/19 [==============================] - 3s 165ms/step - loss: 5.6165e-05 - val_loss: 3.7650e-04\n",
      "Epoch 81/100\n",
      "19/19 [==============================] - 3s 177ms/step - loss: 5.0894e-05 - val_loss: 3.8345e-04\n",
      "Epoch 82/100\n",
      "19/19 [==============================] - 4s 192ms/step - loss: 5.0791e-05 - val_loss: 3.8907e-04\n",
      "Epoch 83/100\n",
      "19/19 [==============================] - 4s 195ms/step - loss: 4.8884e-05 - val_loss: 3.8721e-04\n",
      "Epoch 84/100\n",
      "19/19 [==============================] - 4s 193ms/step - loss: 5.0137e-05 - val_loss: 3.7581e-04\n",
      "Epoch 85/100\n",
      "19/19 [==============================] - 3s 181ms/step - loss: 5.2673e-05 - val_loss: 6.2425e-04\n",
      "Epoch 86/100\n",
      "19/19 [==============================] - 3s 180ms/step - loss: 4.7990e-05 - val_loss: 3.6982e-04\n",
      "Epoch 87/100\n",
      "19/19 [==============================] - 3s 177ms/step - loss: 4.5698e-05 - val_loss: 4.4487e-04\n",
      "Epoch 88/100\n",
      "19/19 [==============================] - 4s 191ms/step - loss: 4.5703e-05 - val_loss: 4.6590e-04\n",
      "Epoch 89/100\n",
      "19/19 [==============================] - 4s 195ms/step - loss: 4.6431e-05 - val_loss: 3.5740e-04\n",
      "Epoch 90/100\n",
      "19/19 [==============================] - 4s 207ms/step - loss: 4.3231e-05 - val_loss: 3.4386e-04\n",
      "Epoch 91/100\n",
      "19/19 [==============================] - 3s 168ms/step - loss: 4.3205e-05 - val_loss: 3.4572e-04\n",
      "Epoch 92/100\n",
      "19/19 [==============================] - 3s 168ms/step - loss: 5.0481e-05 - val_loss: 7.2173e-04\n",
      "Epoch 93/100\n",
      "19/19 [==============================] - 4s 226ms/step - loss: 5.6223e-05 - val_loss: 3.3483e-04\n",
      "Epoch 94/100\n",
      "19/19 [==============================] - 4s 204ms/step - loss: 4.3055e-05 - val_loss: 4.7488e-04\n",
      "Epoch 95/100\n",
      "19/19 [==============================] - 4s 194ms/step - loss: 4.9643e-05 - val_loss: 4.3927e-04\n",
      "Epoch 96/100\n",
      "19/19 [==============================] - 3s 168ms/step - loss: 4.8346e-05 - val_loss: 4.1715e-04\n",
      "Epoch 97/100\n",
      "19/19 [==============================] - 3s 164ms/step - loss: 4.4493e-05 - val_loss: 3.1747e-04\n",
      "Epoch 98/100\n",
      "19/19 [==============================] - 3s 182ms/step - loss: 5.1709e-05 - val_loss: 0.0013\n",
      "Epoch 99/100\n",
      "19/19 [==============================] - 3s 185ms/step - loss: 5.5866e-05 - val_loss: 3.3434e-04\n",
      "Epoch 100/100\n",
      "19/19 [==============================] - 3s 182ms/step - loss: 4.6295e-05 - val_loss: 4.0588e-04\n"
     ]
    },
    {
     "data": {
      "text/plain": [
       "<keras.callbacks.History at 0x1fe56e33ee0>"
      ]
     },
     "execution_count": 23,
     "metadata": {},
     "output_type": "execute_result"
    }
   ],
   "source": [
    "model.fit(X_train,y_train,validation_data=(X_test,ytest),epochs=100,batch_size=64,verbose=1)"
   ]
  },
  {
   "cell_type": "code",
   "execution_count": 24,
   "metadata": {},
   "outputs": [],
   "source": [
    "import tensorflow as tf"
   ]
  },
  {
   "cell_type": "code",
   "execution_count": 25,
   "metadata": {},
   "outputs": [
    {
     "data": {
      "text/plain": [
       "'2.8.0'"
      ]
     },
     "execution_count": 25,
     "metadata": {},
     "output_type": "execute_result"
    }
   ],
   "source": [
    "tf.__version__"
   ]
  },
  {
   "cell_type": "code",
   "execution_count": 26,
   "metadata": {},
   "outputs": [],
   "source": [
    "### Lets Do the prediction and check performance metrics\n",
    "train_predict=model.predict(X_train)\n",
    "test_predict=model.predict(X_test)"
   ]
  },
  {
   "cell_type": "code",
   "execution_count": 27,
   "metadata": {},
   "outputs": [],
   "source": [
    "##Transformback to original form\n",
    "train_predict=scaler.inverse_transform(train_predict)\n",
    "test_predict=scaler.inverse_transform(test_predict)"
   ]
  },
  {
   "cell_type": "code",
   "execution_count": 28,
   "metadata": {},
   "outputs": [
    {
     "data": {
      "text/plain": [
       "1070.1643769068962"
      ]
     },
     "execution_count": 28,
     "metadata": {},
     "output_type": "execute_result"
    }
   ],
   "source": [
    "### Calculate RMSE performance metrics\n",
    "import math\n",
    "from sklearn.metrics import mean_squared_error\n",
    "math.sqrt(mean_squared_error(y_train,train_predict))"
   ]
  },
  {
   "cell_type": "code",
   "execution_count": 58,
   "metadata": {},
   "outputs": [
    {
     "data": {
      "text/plain": [
       "24.966937615336047"
      ]
     },
     "execution_count": 58,
     "metadata": {},
     "output_type": "execute_result"
    }
   ],
   "source": [
    "### Test Data RMSE\n",
    "metrics.mean_squared_error(ytest,test_predict) ** .5"
   ]
  },
  {
   "cell_type": "code",
   "execution_count": 37,
   "metadata": {},
   "outputs": [],
   "source": [
    "from sklearn import metrics"
   ]
  },
  {
   "cell_type": "code",
   "execution_count": 56,
   "metadata": {},
   "outputs": [
    {
     "data": {
      "text/plain": [
       "623.347973888082"
      ]
     },
     "execution_count": 56,
     "metadata": {},
     "output_type": "execute_result"
    }
   ],
   "source": [
    "metrics.mean_squared_error(ytest,test_predict)"
   ]
  },
  {
   "cell_type": "code",
   "execution_count": 54,
   "metadata": {},
   "outputs": [
    {
     "data": {
      "text/plain": [
       "0.9441807587463474"
      ]
     },
     "execution_count": 54,
     "metadata": {},
     "output_type": "execute_result"
    }
   ],
   "source": [
    "metrics.r2_score(ytest,test_predict)"
   ]
  },
  {
   "cell_type": "code",
   "execution_count": 43,
   "metadata": {},
   "outputs": [
    {
     "data": {
      "text/plain": [
       "38.89817691950829"
      ]
     },
     "execution_count": 43,
     "metadata": {},
     "output_type": "execute_result"
    }
   ],
   "source": [
    "metrics.mean_absolute_percentage_error(ytest, test_predict)"
   ]
  },
  {
   "cell_type": "code",
   "execution_count": 44,
   "metadata": {},
   "outputs": [
    {
     "data": {
      "text/plain": [
       "24.208666713266286"
      ]
     },
     "execution_count": 44,
     "metadata": {},
     "output_type": "execute_result"
    }
   ],
   "source": [
    "metrics.mean_absolute_error(ytest, test_predict)"
   ]
  },
  {
   "cell_type": "code",
   "execution_count": 30,
   "metadata": {},
   "outputs": [
    {
     "data": {
      "image/png": "[encoded data removed]",
      "text/plain": [
       "<Figure size 432x288 with 1 Axes>"
      ]
     },
     "metadata": {
      "needs_background": "light"
     },
     "output_type": "display_data"
    }
   ],
   "source": [
    "### Plotting \n",
    "# shift train predictions for plotting\n",
    "look_back=100\n",
    "trainPredictPlot = numpy.empty_like(df1)\n",
    "trainPredictPlot[:, :] = np.nan\n",
    "trainPredictPlot[look_back:len(train_predict)+look_back, :] = train_predict\n",
    "# shift test predictions for plotting\n",
    "testPredictPlot = numpy.empty_like(df1)\n",
    "testPredictPlot[:, :] = numpy.nan\n",
    "testPredictPlot[len(train_predict)+(look_back*2)+1:len(df1)-1, :] = test_predict\n",
    "# plot baseline and predictions\n",
    "plt.plot(scaler.inverse_transform(df1))\n",
    "plt.plot(trainPredictPlot)\n",
    "plt.plot(testPredictPlot)\n",
    "plt.show()"
   ]
  },
  {
   "cell_type": "code",
   "execution_count": 31,
   "metadata": {},
   "outputs": [
    {
     "data": {
      "text/plain": [
       "692"
      ]
     },
     "execution_count": 31,
     "metadata": {},
     "output_type": "execute_result"
    }
   ],
   "source": [
    "len(test_data)"
   ]
  },
  {
   "cell_type": "code",
   "execution_count": 32,
   "metadata": {},
   "outputs": [
    {
     "data": {
      "text/plain": [
       "(1, 351)"
      ]
     },
     "execution_count": 32,
     "metadata": {},
     "output_type": "execute_result"
    }
   ],
   "source": [
    "x_input=test_data[341:].reshape(1,-1)\n",
    "x_input.shape\n"
   ]
  },
  {
   "cell_type": "code",
   "execution_count": null,
   "metadata": {},
   "outputs": [],
   "source": []
  },
  {
   "cell_type": "code",
   "execution_count": null,
   "metadata": {},
   "outputs": [],
   "source": []
  },
  {
   "cell_type": "code",
   "execution_count": 33,
   "metadata": {},
   "outputs": [],
   "source": [
    "temp_input=list(x_input)\n",
    "temp_input=temp_input[0].tolist()"
   ]
  },
  {
   "cell_type": "code",
   "execution_count": 34,
   "metadata": {},
   "outputs": [
    {
     "data": {
      "text/plain": [
       "[0.5530417540266875,\n",
       " 0.5472719293968502,\n",
       " 0.5439563118630845,\n",
       " 0.546508037121914,\n",
       " 0.5481170868074179,\n",
       " 0.5489134851366066,\n",
       " 0.5518552830464674,\n",
       " 0.5405594291936873,\n",
       " 0.5414045866042551,\n",
       " 0.5497098834657955,\n",
       " 0.5556259853397695,\n",
       " 0.5383002584231313,\n",
       " 0.5388528613454255,\n",
       " 0.5587953256293985,\n",
       " 0.5628098233295951,\n",
       " 0.5909600663123508,\n",
       " 0.6216945406081882,\n",
       " 0.6307637297446649,\n",
       " 0.6419295593804346,\n",
       " 0.6307962357989175,\n",
       " 0.6575487184488111,\n",
       " 0.6601654558161457,\n",
       " 0.6572399109334113,\n",
       " 0.6667316787751719,\n",
       " 0.6594990817039674,\n",
       " 0.6772961464072683,\n",
       " 0.6747281681213125,\n",
       " 0.6836835860679052,\n",
       " 0.6684544996505598,\n",
       " 0.6846912737497359,\n",
       " 0.6970760804199783,\n",
       " 0.6992214800006501,\n",
       " 0.7103710566092934,\n",
       " 0.7144993254993742,\n",
       " 0.7265915776813432,\n",
       " 0.7366359484453979,\n",
       " 0.7400653371690478,\n",
       " 0.7334991142100217,\n",
       " 0.7459976920701481,\n",
       " 0.7492157914411559,\n",
       " 0.7453800770393485,\n",
       " 0.7624945146033448,\n",
       " 0.7641848294244802,\n",
       " 0.7278105547158159,\n",
       " 0.7171485689209616,\n",
       " 0.7038210866773936,\n",
       " 0.6799291368017293,\n",
       " 0.6796203292863296,\n",
       " 0.6980025029661774,\n",
       " 0.7150031693402896,\n",
       " 0.7204479334276009,\n",
       " 0.6821232954637801,\n",
       " 0.6554033188681392,\n",
       " 0.6298535602255919,\n",
       " 0.6320477188876428,\n",
       " 0.620556828709347,\n",
       " 0.6331204186779787,\n",
       " 0.6387277130365531,\n",
       " 0.6353633364214085,\n",
       " 0.6188177548068328,\n",
       " 0.6106262291351765,\n",
       " 0.623888699270239,\n",
       " 0.6529816178263201,\n",
       " 0.653940546426772,\n",
       " 0.6524290149040259,\n",
       " 0.6461228403790206,\n",
       " 0.6369236270255334,\n",
       " 0.6344206608480829,\n",
       " 0.6146569798624993,\n",
       " 0.640986883807109,\n",
       " 0.624311277975523,\n",
       " 0.613990605750321,\n",
       " 0.6095047702634615,\n",
       " 0.6080257447949681,\n",
       " 0.6095535293448404,\n",
       " 0.5783314642352138,\n",
       " 0.6061566466754433,\n",
       " 0.6151933297576673,\n",
       " 0.6188990199424643,\n",
       " 0.6239862174329969,\n",
       " 0.6138605815333106,\n",
       " 0.6127391226615958,\n",
       " 0.6257415443626376,\n",
       " 0.6285370650283616,\n",
       " 0.6188015017797064,\n",
       " 0.6038487168235083,\n",
       " 0.6411819201326248,\n",
       " 0.6255302550099956,\n",
       " 0.6195491410275163,\n",
       " 0.6215482633640516,\n",
       " 0.6262453882035529,\n",
       " 0.6212394558486517,\n",
       " 0.6325353097014318,\n",
       " 0.6187689957254539,\n",
       " 0.6521527134428787,\n",
       " 0.6759146391015327,\n",
       " 0.6626196629122174,\n",
       " 0.6679506558096445,\n",
       " 0.6540868236709086,\n",
       " 0.6872917580899442,\n",
       " 0.692167666227835,\n",
       " 0.6996278056788077,\n",
       " 0.692492726770361,\n",
       " 0.6833910315796318,\n",
       " 0.6739155167649975,\n",
       " 0.6787751718757618,\n",
       " 0.7045687259252036,\n",
       " 0.6740617940091341,\n",
       " 0.6687633071659597,\n",
       " 0.653778016155509,\n",
       " 0.6565897898483591,\n",
       " 0.6694784403595169,\n",
       " 0.6749394574739546,\n",
       " 0.6883807109074065,\n",
       " 0.6875843125782177,\n",
       " 0.6637086157296797,\n",
       " 0.6777024720854259,\n",
       " 0.6793277747980562,\n",
       " 0.6726640336762723,\n",
       " 0.6665528954767825,\n",
       " 0.6674143059144766,\n",
       " 0.6693646691696329,\n",
       " 0.6690721146813594,\n",
       " 0.6689095844100963,\n",
       " 0.7396102524095113,\n",
       " 0.7425845563736245,\n",
       " 0.7551318933151299,\n",
       " 0.7536041087652575,\n",
       " 0.7466315601280737,\n",
       " 0.7586913062557902,\n",
       " 0.7543517480130674,\n",
       " 0.785346270742926,\n",
       " 0.7942204235538869,\n",
       " 0.7973572577892633,\n",
       " 0.7936840736587188,\n",
       " 0.8061013863832139,\n",
       " 0.7914736619695418,\n",
       " 0.7824369788873177,\n",
       " 0.7920425179189624,\n",
       " 0.7884993580054285,\n",
       " 0.7917824694849416,\n",
       " 0.7898321062297853,\n",
       " 0.795033074910202,\n",
       " 0.7970972093552423,\n",
       " 0.7992588619630405,\n",
       " 0.7963333170803062,\n",
       " 0.8268077429421229,\n",
       " 0.8193801095454029,\n",
       " 0.8328213629788548,\n",
       " 0.8293432151738261,\n",
       " 0.8358119199700945,\n",
       " 0.8167308661238155,\n",
       " 0.8094657629983585,\n",
       " 0.8271490565117753,\n",
       " 0.8142604060006176,\n",
       " 0.8076291709330863,\n",
       " 0.8136590439969444,\n",
       " 0.8102296552732946,\n",
       " 0.8207778698782648,\n",
       " 0.8146504786516487,\n",
       " 0.8187137354332243,\n",
       " 0.8144391892990069,\n",
       " 0.8260601036943132,\n",
       " 0.8203715442001073,\n",
       " 0.816600841906805,\n",
       " 0.8128626456677556,\n",
       " 0.8109610414939782,\n",
       " 0.8138540803224601,\n",
       " 0.8075966648788336,\n",
       " 0.8108147642498416,\n",
       " 0.8064914590342451,\n",
       " 0.8649535976075543,\n",
       " 0.8471565329042533,\n",
       " 0.8402489963755749,\n",
       " 0.8337802915793067,\n",
       " 0.8221268711297478,\n",
       " 0.8141466348107335,\n",
       " 0.8123100427454614,\n",
       " 0.7997301997497034,\n",
       " 0.8037446974499001,\n",
       " 0.822078112048369,\n",
       " 0.8184861930534562,\n",
       " 0.8096282932696215,\n",
       " 0.8030133112292165,\n",
       " 0.8108472703040941,\n",
       " 0.805516277406667,\n",
       " 0.804118517073805,\n",
       " 0.8053212410811513,\n",
       " 0.8094332569441058,\n",
       " 0.8041997822094366,\n",
       " 0.817608529588636,\n",
       " 0.8143091650819966,\n",
       " 0.8498382823800933,\n",
       " 0.8371609212215775,\n",
       " 0.8280917320851009,\n",
       " 0.8258650673687974,\n",
       " 0.8261088627756918,\n",
       " 0.8253124644465032,\n",
       " 0.847887919124937,\n",
       " 0.8784598631495116,\n",
       " 0.9117298096770524,\n",
       " 0.9108846522664845,\n",
       " 0.9233182180181058,\n",
       " 0.9155492710517333,\n",
       " 0.9220992409836332,\n",
       " 0.9208640109220342,\n",
       " 0.9256749069514197,\n",
       " 0.9323711541274563,\n",
       " 0.9308271165504575,\n",
       " 0.9276902823150811,\n",
       " 0.9238870739675263,\n",
       " 0.9129325336843989,\n",
       " 0.9017992101028817,\n",
       " 0.9128837746030197,\n",
       " 0.916979537438848,\n",
       " 0.9172558388999951,\n",
       " 0.9574008159019617,\n",
       " 0.9529474864693549,\n",
       " 0.9368244835600631,\n",
       " 0.9178734539307946,\n",
       " 0.8926487558307735,\n",
       " 0.8713247842410649,\n",
       " 0.8786386464479009,\n",
       " 0.8960943975815495,\n",
       " 0.8815316852763827,\n",
       " 0.9067888894306565,\n",
       " 0.9128675215758936,\n",
       " 0.9121198823280837,\n",
       " 0.9181172493376891,\n",
       " 0.9177921887951631,\n",
       " 0.9097144343133908,\n",
       " 0.8919336226372162,\n",
       " 0.8730313520893266,\n",
       " 0.8680254197344256,\n",
       " 0.8143416711362491,\n",
       " 0.8082142799096332,\n",
       " 0.7868415492385457,\n",
       " 0.8012254782453232,\n",
       " 0.8438246623433613,\n",
       " 0.8518048986623757,\n",
       " 0.845742519544265,\n",
       " 0.852780080289954,\n",
       " 0.8476116176637899,\n",
       " 0.8661725746420269,\n",
       " 0.8648235733905439,\n",
       " 0.8581923383230127,\n",
       " 0.8601101955239164,\n",
       " 0.8484405220472314,\n",
       " 0.834235376338843,\n",
       " 0.8531538999138589,\n",
       " 0.867781624327531,\n",
       " 0.8626294147284933,\n",
       " 0.8879028719098933,\n",
       " 0.8868464251466835,\n",
       " 0.8988411591658946,\n",
       " 0.8739577746355259,\n",
       " 0.8647910673362914,\n",
       " 0.8599151591984006,\n",
       " 0.8599801713069058,\n",
       " 0.8598501470898955,\n",
       " 0.860142701578169,\n",
       " 0.8579160368618656,\n",
       " 0.8728363157638109,\n",
       " 0.849188161295041,\n",
       " 0.8255562598533976,\n",
       " 0.8233783542184733,\n",
       " 0.8487005704812521,\n",
       " 0.8712597721325596,\n",
       " 0.9048385261755002,\n",
       " 0.9037983324394169,\n",
       " 0.9087880117671917,\n",
       " 0.9122499065450939,\n",
       " 0.9102995432899378,\n",
       " 0.8917710923659531,\n",
       " 0.8912347424707853,\n",
       " 0.9011165829635769,\n",
       " 0.9044484535244689,\n",
       " 0.8999951240918621,\n",
       " 0.906870154566288,\n",
       " 0.9022055357810393,\n",
       " 0.9325499374258456,\n",
       " 0.9331512994295187,\n",
       " 0.931656020933899,\n",
       " 0.9373608334552309,\n",
       " 0.9503307491020202,\n",
       " 0.9615290847920425,\n",
       " 0.9843320818502445,\n",
       " 0.9801875599330375,\n",
       " 1.0,\n",
       " 0.9936125603393632,\n",
       " 0.9877127114925154,\n",
       " 0.9901506655614608,\n",
       " 0.9616753620361792,\n",
       " 0.9317860451509093,\n",
       " 0.9363693988005267,\n",
       " 0.9342565052741073,\n",
       " 0.9045784777414793,\n",
       " 0.9132250881726721,\n",
       " 0.9024655842150601,\n",
       " 0.8638483917629659,\n",
       " 0.8607603166089685,\n",
       " 0.8513173078485868,\n",
       " 0.8498057763258405,\n",
       " 0.8634908251661871,\n",
       " 0.8773871633591755,\n",
       " 0.8775334406033123,\n",
       " 0.8791587433159426,\n",
       " 0.8901457896533228,\n",
       " 0.8697644936369399,\n",
       " 0.8835470606400443,\n",
       " 0.8874477871503567,\n",
       " 0.8904058380873437,\n",
       " 0.8830269637720026,\n",
       " 0.8606302923919581,\n",
       " 0.8990849545727891,\n",
       " 0.8971183382905067,\n",
       " 0.8994587741966941,\n",
       " 0.8983048092707268,\n",
       " 0.8940140101093829,\n",
       " 0.8873827750418514,\n",
       " 0.8910884652266483,\n",
       " 0.8352268109935476,\n",
       " 0.8522274773676598,\n",
       " 0.8693256619045296,\n",
       " 0.8225657028621581,\n",
       " 0.7714174264956848,\n",
       " 0.7283469046109837,\n",
       " 0.7184488110910657,\n",
       " 0.7233734783103353,\n",
       " 0.7726038974759049,\n",
       " 0.784338583061095,\n",
       " 0.7913111316982788,\n",
       " 0.8010141888926813,\n",
       " 0.8088156419133063,\n",
       " 0.8267264778064914,\n",
       " 0.857087132478424,\n",
       " 0.8280754790579745,\n",
       " 0.8300095892860044,\n",
       " 0.8184536869992036,\n",
       " 0.82084288198677,\n",
       " 0.8282867684106165,\n",
       " 0.821915581777106,\n",
       " 0.8273603458644173,\n",
       " 0.8392575617208705,\n",
       " 0.8397776585889122,\n",
       " 0.8501958489768721,\n",
       " 0.8514473320655972,\n",
       " 0.858582410974044,\n",
       " 0.8636045963560713,\n",
       " 0.8636858614917028,\n",
       " 0.8803939733775415]"
      ]
     },
     "execution_count": 34,
     "metadata": {},
     "output_type": "execute_result"
    }
   ],
   "source": [
    "temp_input"
   ]
  },
  {
   "cell_type": "code",
   "execution_count": 35,
   "metadata": {},
   "outputs": [
    {
     "name": "stdout",
     "output_type": "stream",
     "text": [
      "0 day input [0.54727193 0.54395631 0.54650804 0.54811709 0.54891349 0.55185528\n",
      " 0.54055943 0.54140459 0.54970988 0.55562599 0.53830026 0.53885286\n",
      " 0.55879533 0.56280982 0.59096007 0.62169454 0.63076373 0.64192956\n",
      " 0.63079624 0.65754872 0.66016546 0.65723991 0.66673168 0.65949908\n",
      " 0.67729615 0.67472817 0.68368359 0.6684545  0.68469127 0.69707608\n",
      " 0.69922148 0.71037106 0.71449933 0.72659158 0.73663595 0.74006534\n",
      " 0.73349911 0.74599769 0.74921579 0.74538008 0.76249451 0.76418483\n",
      " 0.72781055 0.71714857 0.70382109 0.67992914 0.67962033 0.6980025\n",
      " 0.71500317 0.72044793 0.6821233  0.65540332 0.62985356 0.63204772\n",
      " 0.62055683 0.63312042 0.63872771 0.63536334 0.61881775 0.61062623\n",
      " 0.6238887  0.65298162 0.65394055 0.65242901 0.64612284 0.63692363\n",
      " 0.63442066 0.61465698 0.64098688 0.62431128 0.61399061 0.60950477\n",
      " 0.60802574 0.60955353 0.57833146 0.60615665 0.61519333 0.61889902\n",
      " 0.62398622 0.61386058 0.61273912 0.62574154 0.62853707 0.6188015\n",
      " 0.60384872 0.64118192 0.62553026 0.61954914 0.62154826 0.62624539\n",
      " 0.62123946 0.63253531 0.618769   0.65215271 0.67591464 0.66261966\n",
      " 0.66795066 0.65408682 0.68729176 0.69216767 0.69962781 0.69249273\n",
      " 0.68339103 0.67391552 0.67877517 0.70456873 0.67406179 0.66876331\n",
      " 0.65377802 0.65658979 0.66947844 0.67493946 0.68838071 0.68758431\n",
      " 0.66370862 0.67770247 0.67932777 0.67266403 0.6665529  0.66741431\n",
      " 0.66936467 0.66907211 0.66890958 0.73961025 0.74258456 0.75513189\n",
      " 0.75360411 0.74663156 0.75869131 0.75435175 0.78534627 0.79422042\n",
      " 0.79735726 0.79368407 0.80610139 0.79147366 0.78243698 0.79204252\n",
      " 0.78849936 0.79178247 0.78983211 0.79503307 0.79709721 0.79925886\n",
      " 0.79633332 0.82680774 0.81938011 0.83282136 0.82934322 0.83581192\n",
      " 0.81673087 0.80946576 0.82714906 0.81426041 0.80762917 0.81365904\n",
      " 0.81022966 0.82077787 0.81465048 0.81871374 0.81443919 0.8260601\n",
      " 0.82037154 0.81660084 0.81286265 0.81096104 0.81385408 0.80759666\n",
      " 0.81081476 0.80649146 0.8649536  0.84715653 0.840249   0.83378029\n",
      " 0.82212687 0.81414663 0.81231004 0.7997302  0.8037447  0.82207811\n",
      " 0.81848619 0.80962829 0.80301331 0.81084727 0.80551628 0.80411852\n",
      " 0.80532124 0.80943326 0.80419978 0.81760853 0.81430917 0.84983828\n",
      " 0.83716092 0.82809173 0.82586507 0.82610886 0.82531246 0.84788792\n",
      " 0.87845986 0.91172981 0.91088465 0.92331822 0.91554927 0.92209924\n",
      " 0.92086401 0.92567491 0.93237115 0.93082712 0.92769028 0.92388707\n",
      " 0.91293253 0.90179921 0.91288377 0.91697954 0.91725584 0.95740082\n",
      " 0.95294749 0.93682448 0.91787345 0.89264876 0.87132478 0.87863865\n",
      " 0.8960944  0.88153169 0.90678889 0.91286752 0.91211988 0.91811725\n",
      " 0.91779219 0.90971443 0.89193362 0.87303135 0.86802542 0.81434167\n",
      " 0.80821428 0.78684155 0.80122548 0.84382466 0.8518049  0.84574252\n",
      " 0.85278008 0.84761162 0.86617257 0.86482357 0.85819234 0.8601102\n",
      " 0.84844052 0.83423538 0.8531539  0.86778162 0.86262941 0.88790287\n",
      " 0.88684643 0.89884116 0.87395777 0.86479107 0.85991516 0.85998017\n",
      " 0.85985015 0.8601427  0.85791604 0.87283632 0.84918816 0.82555626\n",
      " 0.82337835 0.84870057 0.87125977 0.90483853 0.90379833 0.90878801\n",
      " 0.91224991 0.91029954 0.89177109 0.89123474 0.90111658 0.90444845\n",
      " 0.89999512 0.90687015 0.90220554 0.93254994 0.9331513  0.93165602\n",
      " 0.93736083 0.95033075 0.96152908 0.98433208 0.98018756 1.\n",
      " 0.99361256 0.98771271 0.99015067 0.96167536 0.93178605 0.9363694\n",
      " 0.93425651 0.90457848 0.91322509 0.90246558 0.86384839 0.86076032\n",
      " 0.85131731 0.84980578 0.86349083 0.87738716 0.87753344 0.87915874\n",
      " 0.89014579 0.86976449 0.88354706 0.88744779 0.89040584 0.88302696\n",
      " 0.86063029 0.89908495 0.89711834 0.89945877 0.89830481 0.89401401\n",
      " 0.88738278 0.89108847 0.83522681 0.85222748 0.86932566 0.8225657\n",
      " 0.77141743 0.7283469  0.71844881 0.72337348 0.7726039  0.78433858\n",
      " 0.79131113 0.80101419 0.80881564 0.82672648 0.85708713 0.82807548\n",
      " 0.83000959 0.81845369 0.82084288 0.82828677 0.82191558 0.82736035\n",
      " 0.83925756 0.83977766 0.85019585 0.85144733 0.85858241 0.8636046\n",
      " 0.86368586 0.88039397]\n"
     ]
    },
    {
     "ename": "ValueError",
     "evalue": "cannot reshape array of size 350 into shape (1,100,1)",
     "output_type": "error",
     "traceback": [
      "\u001b[1;31m---------------------------------------------------------------------------\u001b[0m",
      "\u001b[1;31mValueError\u001b[0m                                Traceback (most recent call last)",
      "\u001b[1;32m~\\AppData\\Local\\Temp/ipykernel_1152/917492977.py\u001b[0m in \u001b[0;36m<module>\u001b[1;34m\u001b[0m\n\u001b[0;32m     12\u001b[0m         \u001b[0mprint\u001b[0m\u001b[1;33m(\u001b[0m\u001b[1;34m\"{} day input {}\"\u001b[0m\u001b[1;33m.\u001b[0m\u001b[0mformat\u001b[0m\u001b[1;33m(\u001b[0m\u001b[0mi\u001b[0m\u001b[1;33m,\u001b[0m\u001b[0mx_input\u001b[0m\u001b[1;33m)\u001b[0m\u001b[1;33m)\u001b[0m\u001b[1;33m\u001b[0m\u001b[1;33m\u001b[0m\u001b[0m\n\u001b[0;32m     13\u001b[0m         \u001b[0mx_input\u001b[0m\u001b[1;33m=\u001b[0m\u001b[0mx_input\u001b[0m\u001b[1;33m.\u001b[0m\u001b[0mreshape\u001b[0m\u001b[1;33m(\u001b[0m\u001b[1;36m1\u001b[0m\u001b[1;33m,\u001b[0m\u001b[1;33m-\u001b[0m\u001b[1;36m1\u001b[0m\u001b[1;33m)\u001b[0m\u001b[1;33m\u001b[0m\u001b[1;33m\u001b[0m\u001b[0m\n\u001b[1;32m---> 14\u001b[1;33m         \u001b[0mx_input\u001b[0m \u001b[1;33m=\u001b[0m \u001b[0mx_input\u001b[0m\u001b[1;33m.\u001b[0m\u001b[0mreshape\u001b[0m\u001b[1;33m(\u001b[0m\u001b[1;33m(\u001b[0m\u001b[1;36m1\u001b[0m\u001b[1;33m,\u001b[0m \u001b[0mn_steps\u001b[0m\u001b[1;33m,\u001b[0m \u001b[1;36m1\u001b[0m\u001b[1;33m)\u001b[0m\u001b[1;33m)\u001b[0m\u001b[1;33m\u001b[0m\u001b[1;33m\u001b[0m\u001b[0m\n\u001b[0m\u001b[0;32m     15\u001b[0m         \u001b[1;31m#print(x_input)\u001b[0m\u001b[1;33m\u001b[0m\u001b[1;33m\u001b[0m\u001b[0m\n\u001b[0;32m     16\u001b[0m         \u001b[0myhat\u001b[0m \u001b[1;33m=\u001b[0m \u001b[0mmodel\u001b[0m\u001b[1;33m.\u001b[0m\u001b[0mpredict\u001b[0m\u001b[1;33m(\u001b[0m\u001b[0mx_input\u001b[0m\u001b[1;33m,\u001b[0m \u001b[0mverbose\u001b[0m\u001b[1;33m=\u001b[0m\u001b[1;36m0\u001b[0m\u001b[1;33m)\u001b[0m\u001b[1;33m\u001b[0m\u001b[1;33m\u001b[0m\u001b[0m\n",
      "\u001b[1;31mValueError\u001b[0m: cannot reshape array of size 350 into shape (1,100,1)"
     ]
    }
   ],
   "source": [
    "# demonstrate prediction for next 10 days\n",
    "from numpy import array\n",
    "\n",
    "lst_output=[]\n",
    "n_steps=100\n",
    "i=0\n",
    "while(i<30):\n",
    "    \n",
    "    if(len(temp_input)>100):\n",
    "        #print(temp_input)\n",
    "        x_input=np.array(temp_input[1:])\n",
    "        print(\"{} day input {}\".format(i,x_input))\n",
    "        x_input=x_input.reshape(1,-1)\n",
    "        x_input = x_input.reshape((1, n_steps, 1))\n",
    "        #print(x_input)\n",
    "        yhat = model.predict(x_input, verbose=0)\n",
    "        print(\"{} day output {}\".format(i,yhat))\n",
    "        temp_input.extend(yhat[0].tolist())\n",
    "        temp_input=temp_input[1:]\n",
    "        #print(temp_input)\n",
    "        lst_output.extend(yhat.tolist())\n",
    "        i=i+1\n",
    "    else:\n",
    "        x_input = x_input.reshape((1, n_steps,1))\n",
    "        yhat = model.predict(x_input, verbose=0)\n",
    "        print(yhat[0])\n",
    "        temp_input.extend(yhat[0].tolist())\n",
    "        print(len(temp_input))\n",
    "        lst_output.extend(yhat.tolist())\n",
    "        i=i+1\n",
    "    \n",
    "\n",
    "print(lst_output)"
   ]
  },
  {
   "cell_type": "code",
   "execution_count": null,
   "metadata": {},
   "outputs": [],
   "source": [
    "day_new=np.arange(1,101)\n",
    "day_pred=np.arange(101,131)"
   ]
  },
  {
   "cell_type": "code",
   "execution_count": null,
   "metadata": {},
   "outputs": [],
   "source": [
    "import matplotlib.pyplot as plt"
   ]
  },
  {
   "cell_type": "code",
   "execution_count": null,
   "metadata": {},
   "outputs": [],
   "source": [
    "len(df1)"
   ]
  },
  {
   "cell_type": "code",
   "execution_count": null,
   "metadata": {},
   "outputs": [],
   "source": []
  },
  {
   "cell_type": "code",
   "execution_count": null,
   "metadata": {},
   "outputs": [],
   "source": [
    "plt.plot(day_new,scaler.inverse_transform(df1[1158:]))\n",
    "plt.plot(day_pred,scaler.inverse_transform(lst_output))"
   ]
  },
  {
   "cell_type": "code",
   "execution_count": null,
   "metadata": {},
   "outputs": [],
   "source": [
    "df3=df1.tolist()\n",
    "df3.extend(lst_output)\n",
    "plt.plot(df3[1200:])"
   ]
  },
  {
   "cell_type": "code",
   "execution_count": null,
   "metadata": {},
   "outputs": [],
   "source": [
    "df3=scaler.inverse_transform(df3).tolist()"
   ]
  },
  {
   "cell_type": "code",
   "execution_count": null,
   "metadata": {},
   "outputs": [],
   "source": [
    "plt.plot(df3)"
   ]
  },
  {
   "cell_type": "code",
   "execution_count": null,
   "metadata": {},
   "outputs": [],
   "source": []
  }
 ],
 "metadata": {
  "kernelspec": {
   "display_name": "Python 3 (ipykernel)",
   "language": "python",
   "name": "python3"
  },
  "language_info": {
   "codemirror_mode": {
    "name": "ipython",
    "version": 3
   },
   "file_extension": ".py",
   "mimetype": "text/x-python",
   "name": "python",
   "nbconvert_exporter": "python",
   "pygments_lexer": "ipython3",
   "version": "3.9.7"
  }
 },
 "nbformat": 4,
 "nbformat_minor": 2
}
